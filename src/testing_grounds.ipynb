{
 "cells": [
  {
   "cell_type": "code",
   "execution_count": null,
   "id": "9dfc142a",
   "metadata": {
    "vscode": {
     "languageId": "plaintext"
    }
   },
   "outputs": [],
   "source": [
    "import networkx as nx\n",
    "from networkx.algorithms import weisfeiler_lehman_graph_hash\n",
    "import random\n",
    "\n",
    "# Create an example graph (e.g., a simple cycle)\n",
    "G = nx.cycle_graph(5)\n",
    "\n",
    "# Compute WL hash for the original graph\n",
    "hash_G = weisfeiler_lehman_graph_hash(G)\n",
    "print(\"Original Graph hash:\", hash_G)\n",
    "\n",
    "# Create a permuted (transmuted) version of G:\n",
    "# Here we relabel the nodes randomly. The graphs remain isomorphic.\n",
    "nodes = list(G.nodes())\n",
    "permuted_nodes = nodes.copy()\n",
    "random.shuffle(permuted_nodes)\n",
    "mapping = {old: new for old, new in zip(nodes, permuted_nodes)}\n",
    "H = nx.relabel_nodes(G, mapping)\n",
    "\n",
    "# Compute WL hash for the permuted graph\n",
    "hash_H = weisfeiler_lehman_graph_hash(H)\n",
    "print(\"Permuted Graph hash:\", hash_H)\n",
    "\n",
    "print(\"Hashes match:\", hash_G == hash_H)"
   ]
  }
 ],
 "metadata": {
  "language_info": {
   "name": "python"
  }
 },
 "nbformat": 4,
 "nbformat_minor": 5
}
